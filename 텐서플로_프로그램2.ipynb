{
  "nbformat": 4,
  "nbformat_minor": 0,
  "metadata": {
    "colab": {
      "name": "텐서플로 프로그램2.ipynb",
      "provenance": [],
      "collapsed_sections": [],
      "include_colab_link": true
    },
    "kernelspec": {
      "name": "python3",
      "display_name": "Python 3"
    },
    "language_info": {
      "name": "python"
    },
    "accelerator": "TPU"
  },
  "cells": [
    {
      "cell_type": "markdown",
      "metadata": {
        "id": "view-in-github",
        "colab_type": "text"
      },
      "source": [
        "<a href=\"https://colab.research.google.com/github/Chan0226/Neural-Network/blob/main/%ED%85%90%EC%84%9C%ED%94%8C%EB%A1%9C_%ED%94%84%EB%A1%9C%EA%B7%B8%EB%9E%A82.ipynb\" target=\"_parent\"><img src=\"https://colab.research.google.com/assets/colab-badge.svg\" alt=\"Open In Colab\"/></a>"
      ]
    },
    {
      "cell_type": "code",
      "metadata": {
        "id": "-0URDWLumbim"
      },
      "source": [
        "#fashion MNIST 데이터셋\n",
        "import numpy as np\n",
        "import tensorflow as tf\n",
        "from tensorflow.keras.datasets import fashion_mnist\n",
        "\n",
        "from tensorflow.keras.models import Sequential\n",
        "from tensorflow.keras.layers import Dense\n",
        "from tensorflow.keras.optimizers import Adam"
      ],
      "execution_count": null,
      "outputs": []
    },
    {
      "cell_type": "code",
      "metadata": {
        "colab": {
          "base_uri": "https://localhost:8080/"
        },
        "id": "cDbUDvj4p9aR",
        "outputId": "d6177172-5877-4528-80b8-2d4db005a35a"
      },
      "source": [
        "# fashion_mnist ---> 신경망 입력 형태로 변환\n",
        "(x_train,y_train),(x_test,y_test) = fashion_mnist.load_data()"
      ],
      "execution_count": null,
      "outputs": [
        {
          "output_type": "stream",
          "name": "stdout",
          "text": [
            "Downloading data from https://storage.googleapis.com/tensorflow/tf-keras-datasets/train-labels-idx1-ubyte.gz\n",
            "32768/29515 [=================================] - 0s 0us/step\n",
            "40960/29515 [=========================================] - 0s 0us/step\n",
            "Downloading data from https://storage.googleapis.com/tensorflow/tf-keras-datasets/train-images-idx3-ubyte.gz\n",
            "26427392/26421880 [==============================] - 0s 0us/step\n",
            "26435584/26421880 [==============================] - 0s 0us/step\n",
            "Downloading data from https://storage.googleapis.com/tensorflow/tf-keras-datasets/t10k-labels-idx1-ubyte.gz\n",
            "16384/5148 [===============================================================================================] - 0s 0us/step\n",
            "Downloading data from https://storage.googleapis.com/tensorflow/tf-keras-datasets/t10k-images-idx3-ubyte.gz\n",
            "4423680/4422102 [==============================] - 0s 0us/step\n",
            "4431872/4422102 [==============================] - 0s 0us/step\n"
          ]
        }
      ]
    },
    {
      "cell_type": "code",
      "metadata": {
        "colab": {
          "base_uri": "https://localhost:8080/"
        },
        "id": "KSbdxJwOqYOx",
        "outputId": "255a2eae-7074-4df1-e156-b6b6c0af1194"
      },
      "source": [
        "x_train = x_train.reshape(60000, 784)\n",
        "x_test = x_test.reshape(10000, 784)\n",
        "x_train.shape, x_test.shape"
      ],
      "execution_count": null,
      "outputs": [
        {
          "output_type": "execute_result",
          "data": {
            "text/plain": [
              "((60000, 784), (10000, 784))"
            ]
          },
          "metadata": {},
          "execution_count": 4
        }
      ]
    },
    {
      "cell_type": "code",
      "metadata": {
        "colab": {
          "base_uri": "https://localhost:8080/"
        },
        "id": "rsnVb7Mmqob_",
        "outputId": "70adce96-604a-4654-fc9c-170f1b5dd2ad"
      },
      "source": [
        "# numpy array  행열\n",
        "x_train = x_train.astype(np.float32) / 255.0\n",
        "x_test = x_test.astype(np.float32) / 255.0\n",
        "x_train.shape, x_test.shape"
      ],
      "execution_count": null,
      "outputs": [
        {
          "output_type": "execute_result",
          "data": {
            "text/plain": [
              "((60000, 784), (10000, 784))"
            ]
          },
          "metadata": {},
          "execution_count": 5
        }
      ]
    },
    {
      "cell_type": "code",
      "metadata": {
        "colab": {
          "base_uri": "https://localhost:8080/"
        },
        "id": "j6FW7Gz2rAJ_",
        "outputId": "64b486b6-2071-4e40-895a-65d8f3b27596"
      },
      "source": [
        "# 원핫 코드\n",
        "y_train = tf.keras.utils.to_categorical(y_train,10)\n",
        "y_test = tf.keras.utils.to_categorical(y_test,10)\n",
        "x_train.shape, y_test.shape"
      ],
      "execution_count": null,
      "outputs": [
        {
          "output_type": "execute_result",
          "data": {
            "text/plain": [
              "((60000, 784), (10000, 10))"
            ]
          },
          "metadata": {},
          "execution_count": 6
        }
      ]
    },
    {
      "cell_type": "code",
      "metadata": {
        "id": "v98Jwij9rCKI"
      },
      "source": [
        "m_input = 784\n",
        "m_hidden = 1024\n",
        "m_hidden1 = 512\n",
        "m_hidden2 = 512\n",
        "m_hidden3 = 512\n",
        "m_output = 10"
      ],
      "execution_count": null,
      "outputs": []
    },
    {
      "cell_type": "code",
      "metadata": {
        "id": "dgHKBDL5rcSf"
      },
      "source": [
        "mlp = Sequential()  # 초기 레이아웃을 잡는거\n",
        " # 최초 입력과 히든층을 연결\n",
        "mlp.add(Dense(units=m_hidden, activation='relu', input_shape = (m_input,),kernel_initializer='random_uniform'))\n",
        "\n",
        "mlp.add(Dense(units=m_hidden1, activation='relu',kernel_initializer='random_uniform' ))\n",
        "mlp.add(Dense(units=m_hidden2, activation='relu',kernel_initializer='random_uniform' ))\n",
        "mlp.add(Dense(units=m_hidden3, activation='relu',kernel_initializer='random_uniform' ))\n",
        "\n",
        "mlp.add(Dense(units=m_output, activation='relu',kernel_initializer='random_uniform' ))\n"
      ],
      "execution_count": null,
      "outputs": []
    },
    {
      "cell_type": "code",
      "metadata": {
        "id": "r_HWAEfxsPkW"
      },
      "source": [
        "mlp.compile(loss = 'mse', optimizer=Adam(learning_rate=0.001),metrics=['accuracy'])"
      ],
      "execution_count": null,
      "outputs": []
    },
    {
      "cell_type": "code",
      "metadata": {
        "colab": {
          "base_uri": "https://localhost:8080/"
        },
        "id": "65N4BzS2siTI",
        "outputId": "cb8c960c-80c5-4776-ebc9-39982141a1fc"
      },
      "source": [
        "hist = mlp.fit(x_train,y_train,batch_size=128, epochs=15,validation_data=(x_test,y_test),verbose=2)"
      ],
      "execution_count": null,
      "outputs": [
        {
          "output_type": "stream",
          "name": "stdout",
          "text": [
            "Epoch 1/15\n",
            "469/469 - 6s - loss: 0.0313 - accuracy: 0.7920 - val_loss: 0.0273 - val_accuracy: 0.8097 - 6s/epoch - 13ms/step\n",
            "Epoch 2/15\n",
            "469/469 - 3s - loss: 0.0250 - accuracy: 0.8254 - val_loss: 0.0256 - val_accuracy: 0.8226 - 3s/epoch - 6ms/step\n",
            "Epoch 3/15\n",
            "469/469 - 3s - loss: 0.0233 - accuracy: 0.8345 - val_loss: 0.0251 - val_accuracy: 0.8224 - 3s/epoch - 6ms/step\n",
            "Epoch 4/15\n",
            "469/469 - 3s - loss: 0.0222 - accuracy: 0.8407 - val_loss: 0.0248 - val_accuracy: 0.8285 - 3s/epoch - 6ms/step\n",
            "Epoch 5/15\n",
            "469/469 - 3s - loss: 0.0198 - accuracy: 0.8602 - val_loss: 0.0197 - val_accuracy: 0.8643 - 3s/epoch - 6ms/step\n",
            "Epoch 6/15\n",
            "469/469 - 3s - loss: 0.0154 - accuracy: 0.8958 - val_loss: 0.0173 - val_accuracy: 0.8816 - 3s/epoch - 6ms/step\n",
            "Epoch 7/15\n",
            "469/469 - 3s - loss: 0.0146 - accuracy: 0.9017 - val_loss: 0.0184 - val_accuracy: 0.8769 - 3s/epoch - 6ms/step\n",
            "Epoch 8/15\n",
            "469/469 - 3s - loss: 0.0138 - accuracy: 0.9058 - val_loss: 0.0170 - val_accuracy: 0.8860 - 3s/epoch - 6ms/step\n",
            "Epoch 9/15\n",
            "469/469 - 3s - loss: 0.0133 - accuracy: 0.9112 - val_loss: 0.0173 - val_accuracy: 0.8790 - 3s/epoch - 6ms/step\n",
            "Epoch 10/15\n",
            "469/469 - 3s - loss: 0.0131 - accuracy: 0.9123 - val_loss: 0.0168 - val_accuracy: 0.8871 - 3s/epoch - 6ms/step\n",
            "Epoch 11/15\n",
            "469/469 - 3s - loss: 0.0125 - accuracy: 0.9160 - val_loss: 0.0163 - val_accuracy: 0.8890 - 3s/epoch - 6ms/step\n",
            "Epoch 12/15\n",
            "469/469 - 3s - loss: 0.0123 - accuracy: 0.9189 - val_loss: 0.0163 - val_accuracy: 0.8891 - 3s/epoch - 6ms/step\n",
            "Epoch 13/15\n",
            "469/469 - 3s - loss: 0.0117 - accuracy: 0.9224 - val_loss: 0.0163 - val_accuracy: 0.8903 - 3s/epoch - 6ms/step\n",
            "Epoch 14/15\n",
            "469/469 - 3s - loss: 0.0115 - accuracy: 0.9233 - val_loss: 0.0185 - val_accuracy: 0.8765 - 3s/epoch - 6ms/step\n",
            "Epoch 15/15\n",
            "469/469 - 3s - loss: 0.0110 - accuracy: 0.9283 - val_loss: 0.0169 - val_accuracy: 0.8867 - 3s/epoch - 6ms/step\n"
          ]
        }
      ]
    },
    {
      "cell_type": "code",
      "metadata": {
        "id": "7sXuE-MFszNY"
      },
      "source": [
        "# 469/469 - 5s - loss: 0.0617 - accuracy: 0.4916 - val_loss: 0.0628 - val_accuracy: 0.4870 - 5s/epoch - 12ms/step"
      ],
      "execution_count": null,
      "outputs": []
    },
    {
      "cell_type": "code",
      "metadata": {
        "colab": {
          "base_uri": "https://localhost:8080/"
        },
        "id": "_BgRdL3n0GHB",
        "outputId": "cf2c3ca6-ce90-404a-8add-968d9c550a74"
      },
      "source": [
        "# 정확률 측정\n",
        "res = mlp.evaluate(x_test,y_test,verbose=2)\n",
        "res"
      ],
      "execution_count": null,
      "outputs": [
        {
          "output_type": "stream",
          "name": "stdout",
          "text": [
            "313/313 - 1s - loss: 0.0169 - accuracy: 0.8867 - 830ms/epoch - 3ms/step\n"
          ]
        },
        {
          "output_type": "execute_result",
          "data": {
            "text/plain": [
              "[0.01690460368990898, 0.8866999745368958]"
            ]
          },
          "metadata": {},
          "execution_count": 11
        }
      ]
    },
    {
      "cell_type": "code",
      "metadata": {
        "colab": {
          "base_uri": "https://localhost:8080/"
        },
        "id": "vb9HCHcr4lAZ",
        "outputId": "56fec0ad-7dc9-41ab-ade8-7d840d628662"
      },
      "source": [
        "hist.history"
      ],
      "execution_count": null,
      "outputs": [
        {
          "output_type": "execute_result",
          "data": {
            "text/plain": [
              "{'accuracy': [0.792033314704895,\n",
              "  0.8253666758537292,\n",
              "  0.8345333337783813,\n",
              "  0.8406500220298767,\n",
              "  0.8601666688919067,\n",
              "  0.8958333134651184,\n",
              "  0.9017166495323181,\n",
              "  0.9057666659355164,\n",
              "  0.9111999869346619,\n",
              "  0.9123333096504211,\n",
              "  0.9159666895866394,\n",
              "  0.9188666939735413,\n",
              "  0.9223833084106445,\n",
              "  0.9233166575431824,\n",
              "  0.9283333420753479],\n",
              " 'loss': [0.03126901760697365,\n",
              "  0.02502398192882538,\n",
              "  0.023272642865777016,\n",
              "  0.022249432280659676,\n",
              "  0.019767509773373604,\n",
              "  0.015406981110572815,\n",
              "  0.014586661010980606,\n",
              "  0.013840226456522942,\n",
              "  0.01333420816808939,\n",
              "  0.013117391616106033,\n",
              "  0.012498036958277225,\n",
              "  0.012251977808773518,\n",
              "  0.011683525517582893,\n",
              "  0.011498620733618736,\n",
              "  0.010958600789308548],\n",
              " 'val_accuracy': [0.8097000122070312,\n",
              "  0.8226000070571899,\n",
              "  0.8223999738693237,\n",
              "  0.828499972820282,\n",
              "  0.864300012588501,\n",
              "  0.881600022315979,\n",
              "  0.8769000172615051,\n",
              "  0.8859999775886536,\n",
              "  0.8790000081062317,\n",
              "  0.8870999813079834,\n",
              "  0.8889999985694885,\n",
              "  0.8891000151634216,\n",
              "  0.8902999758720398,\n",
              "  0.8765000104904175,\n",
              "  0.8866999745368958],\n",
              " 'val_loss': [0.027264514937996864,\n",
              "  0.025614388287067413,\n",
              "  0.025144577026367188,\n",
              "  0.02476399764418602,\n",
              "  0.019728010520339012,\n",
              "  0.017286011949181557,\n",
              "  0.018370268866419792,\n",
              "  0.017009003087878227,\n",
              "  0.01728782244026661,\n",
              "  0.016765395179390907,\n",
              "  0.016333863139152527,\n",
              "  0.016295693814754486,\n",
              "  0.016349460929632187,\n",
              "  0.018483012914657593,\n",
              "  0.01690460555255413]}"
            ]
          },
          "metadata": {},
          "execution_count": 13
        }
      ]
    },
    {
      "cell_type": "code",
      "metadata": {
        "id": "coJcPqz-5B4j"
      },
      "source": [
        "# Deep 러닝\n",
        "# 가중치 초기화하는 방법\n",
        "# kernel_initializer  : 가중치를 균등한 분포에서 난수를 발생하여 초기화\n",
        "# kernel_initializer='glorot_uniform'  Glorot2010 제목의 논문에 --> 데이터가 많을때는  glorot_uniform를 사용한다\n"
      ],
      "execution_count": null,
      "outputs": []
    },
    {
      "cell_type": "code",
      "metadata": {
        "id": "-IuAhfJU7EUY"
      },
      "source": [
        "# 딥러닝의 대표적인 문제\n",
        "# 그레디언트 소멸문제 --> 미분이 연속적으로 이루어지므로 기울기가 없는 구간이 발생한다\n",
        "# --> 활성함수를   기존의 시그모이드에서   Relu 와같은 검증된 할성화 함수를 사용한다.\n",
        "# 과대적합/과잉적합 --> overfitting\n",
        "# 차수는 유지하고  훈련데이터를 많이 사용 / 규제기법을 적용\n",
        " "
      ],
      "execution_count": null,
      "outputs": []
    },
    {
      "cell_type": "code",
      "metadata": {
        "id": "q7GlaVhXLx2D"
      },
      "source": [
        "# 손실함수(mse)의 교차엔트로피 성능비교\n",
        "import numpy as np\n",
        "import tensorflow as tf\n",
        "from tensorflow.keras.datasets import mnist  # 8 by 8 bitmap  손글씨\n",
        "\n",
        "from tensorflow.keras.models import Sequential\n",
        "from tensorflow.keras.layers import Dense\n",
        "from tensorflow.keras.optimizers import Adam"
      ],
      "execution_count": null,
      "outputs": []
    },
    {
      "cell_type": "code",
      "metadata": {
        "id": "2094a5wYL4zD",
        "colab": {
          "base_uri": "https://localhost:8080/"
        },
        "outputId": "03aae404-eba9-4943-c8ae-f6e2d2434f9e"
      },
      "source": [
        "(x_train,y_train),(x_test,y_test) = mnist.load_data()\n",
        "x_train = x_train.reshape(60000, 784)\n",
        "x_test = x_test.reshape(10000, 784)\n",
        "x_train.shape, x_test.shape\n",
        "x_train = x_train.astype(np.float32) / 255.0\n",
        "x_test = x_test.astype(np.float32) / 255.0\n",
        "x_train.shape, x_test.shape\n",
        "y_train = tf.keras.utils.to_categorical(y_train,10)\n",
        "y_test = tf.keras.utils.to_categorical(y_test,10)\n",
        "x_train.shape, y_test.shape\n",
        "m_input = 784\n",
        "m_hidden = 1024\n",
        "m_hidden1 = 512\n",
        "m_hidden2 = 512\n",
        "m_hidden3 = 512\n",
        "m_output = 10"
      ],
      "execution_count": null,
      "outputs": [
        {
          "output_type": "stream",
          "name": "stdout",
          "text": [
            "Downloading data from https://storage.googleapis.com/tensorflow/tf-keras-datasets/mnist.npz\n",
            "11493376/11490434 [==============================] - 0s 0us/step\n",
            "11501568/11490434 [==============================] - 0s 0us/step\n"
          ]
        }
      ]
    },
    {
      "cell_type": "code",
      "metadata": {
        "colab": {
          "base_uri": "https://localhost:8080/"
        },
        "id": "gIJapqhOEfh3",
        "outputId": "269f196d-3c9b-41b4-a248-61750169c1f9"
      },
      "source": [
        "# 평균 제곱 오차를 사용하는 모델\n",
        "dmlp_mse =  Sequential()\n",
        "dmlp_mse.add(Dense(units=m_hidden, activation='tanh',input_shape=(m_input,)))\n",
        "dmlp_mse.add(Dense(units=m_hidden1, activation='tanh'))\n",
        "dmlp_mse.add(Dense(units=m_hidden2, activation='tanh'))\n",
        "dmlp_mse.add(Dense(units=m_hidden3, activation='tanh'))\n",
        "dmlp_mse.add(Dense(units=m_output, activation='softmax'))\n",
        "dmlp_mse.compile(loss = 'mean_squared_error', optimizer=Adam(learning_rate=0.001),metrics=['accuracy'])\n",
        "hist_mse = dmlp_mse.fit(x_train,y_train,batch_size=128,epochs=30,validation_data=(x_test,y_test),verbose=2)\n",
        "# 교차 엔트로피를 사용한 모델\n",
        "dmlp_ce = Sequential()\n",
        "dmlp_ce.add(Dense(units=m_hidden, activation='tanh',input_shape=(m_input,)))\n",
        "dmlp_ce.add(Dense(units=m_hidden1, activation='tanh'))\n",
        "dmlp_ce.add(Dense(units=m_hidden2, activation='tanh'))\n",
        "dmlp_ce.add(Dense(units=m_hidden3, activation='tanh'))\n",
        "dmlp_ce.add(Dense(units=m_output, activation='softmax'))\n",
        "dmlp_ce.compile(loss = 'categorical_crossentropy', optimizer=Adam(learning_rate=0.001),metrics=['accuracy'])\n",
        "hist_ce = dmlp_ce.fit(x_train,y_train,batch_size=128,epochs=30,validation_data=(x_test,y_test),verbose=2)\n"
      ],
      "execution_count": null,
      "outputs": [
        {
          "output_type": "stream",
          "name": "stdout",
          "text": [
            "Epoch 1/30\n",
            "469/469 - 18s - loss: 0.0157 - accuracy: 0.8961 - val_loss: 0.0090 - val_accuracy: 0.9416 - 18s/epoch - 38ms/step\n",
            "Epoch 2/30\n",
            "469/469 - 17s - loss: 0.0081 - accuracy: 0.9483 - val_loss: 0.0072 - val_accuracy: 0.9531 - 17s/epoch - 36ms/step\n",
            "Epoch 3/30\n",
            "469/469 - 17s - loss: 0.0061 - accuracy: 0.9609 - val_loss: 0.0067 - val_accuracy: 0.9582 - 17s/epoch - 35ms/step\n",
            "Epoch 4/30\n",
            "469/469 - 17s - loss: 0.0052 - accuracy: 0.9668 - val_loss: 0.0063 - val_accuracy: 0.9595 - 17s/epoch - 36ms/step\n",
            "Epoch 5/30\n",
            "469/469 - 17s - loss: 0.0044 - accuracy: 0.9722 - val_loss: 0.0049 - val_accuracy: 0.9685 - 17s/epoch - 36ms/step\n",
            "Epoch 6/30\n",
            "469/469 - 16s - loss: 0.0039 - accuracy: 0.9751 - val_loss: 0.0052 - val_accuracy: 0.9668 - 16s/epoch - 35ms/step\n",
            "Epoch 7/30\n",
            "469/469 - 16s - loss: 0.0037 - accuracy: 0.9764 - val_loss: 0.0053 - val_accuracy: 0.9655 - 16s/epoch - 35ms/step\n",
            "Epoch 8/30\n",
            "469/469 - 17s - loss: 0.0031 - accuracy: 0.9804 - val_loss: 0.0046 - val_accuracy: 0.9701 - 17s/epoch - 35ms/step\n",
            "Epoch 9/30\n",
            "469/469 - 16s - loss: 0.0030 - accuracy: 0.9811 - val_loss: 0.0049 - val_accuracy: 0.9702 - 16s/epoch - 35ms/step\n",
            "Epoch 10/30\n",
            "469/469 - 17s - loss: 0.0028 - accuracy: 0.9828 - val_loss: 0.0050 - val_accuracy: 0.9694 - 17s/epoch - 36ms/step\n",
            "Epoch 11/30\n",
            "469/469 - 16s - loss: 0.0027 - accuracy: 0.9832 - val_loss: 0.0043 - val_accuracy: 0.9730 - 16s/epoch - 35ms/step\n",
            "Epoch 12/30\n",
            "469/469 - 16s - loss: 0.0023 - accuracy: 0.9855 - val_loss: 0.0044 - val_accuracy: 0.9731 - 16s/epoch - 35ms/step\n",
            "Epoch 13/30\n",
            "469/469 - 16s - loss: 0.0023 - accuracy: 0.9852 - val_loss: 0.0051 - val_accuracy: 0.9685 - 16s/epoch - 35ms/step\n",
            "Epoch 14/30\n",
            "469/469 - 16s - loss: 0.0022 - accuracy: 0.9865 - val_loss: 0.0046 - val_accuracy: 0.9713 - 16s/epoch - 35ms/step\n",
            "Epoch 15/30\n",
            "469/469 - 17s - loss: 0.0020 - accuracy: 0.9874 - val_loss: 0.0042 - val_accuracy: 0.9737 - 17s/epoch - 35ms/step\n",
            "Epoch 16/30\n",
            "469/469 - 16s - loss: 0.0019 - accuracy: 0.9882 - val_loss: 0.0042 - val_accuracy: 0.9735 - 16s/epoch - 35ms/step\n",
            "Epoch 17/30\n",
            "469/469 - 17s - loss: 0.0019 - accuracy: 0.9884 - val_loss: 0.0046 - val_accuracy: 0.9716 - 17s/epoch - 35ms/step\n",
            "Epoch 18/30\n",
            "469/469 - 17s - loss: 0.0019 - accuracy: 0.9885 - val_loss: 0.0049 - val_accuracy: 0.9704 - 17s/epoch - 36ms/step\n",
            "Epoch 19/30\n",
            "469/469 - 17s - loss: 0.0018 - accuracy: 0.9889 - val_loss: 0.0040 - val_accuracy: 0.9750 - 17s/epoch - 36ms/step\n",
            "Epoch 20/30\n",
            "469/469 - 17s - loss: 0.0017 - accuracy: 0.9895 - val_loss: 0.0043 - val_accuracy: 0.9739 - 17s/epoch - 36ms/step\n",
            "Epoch 21/30\n",
            "469/469 - 17s - loss: 0.0016 - accuracy: 0.9901 - val_loss: 0.0042 - val_accuracy: 0.9739 - 17s/epoch - 36ms/step\n",
            "Epoch 22/30\n",
            "469/469 - 17s - loss: 0.0016 - accuracy: 0.9903 - val_loss: 0.0038 - val_accuracy: 0.9768 - 17s/epoch - 36ms/step\n",
            "Epoch 23/30\n",
            "469/469 - 17s - loss: 0.0014 - accuracy: 0.9918 - val_loss: 0.0041 - val_accuracy: 0.9755 - 17s/epoch - 35ms/step\n",
            "Epoch 24/30\n",
            "469/469 - 17s - loss: 0.0016 - accuracy: 0.9897 - val_loss: 0.0042 - val_accuracy: 0.9742 - 17s/epoch - 36ms/step\n",
            "Epoch 25/30\n",
            "469/469 - 17s - loss: 0.0016 - accuracy: 0.9902 - val_loss: 0.0044 - val_accuracy: 0.9721 - 17s/epoch - 36ms/step\n",
            "Epoch 26/30\n",
            "469/469 - 17s - loss: 0.0014 - accuracy: 0.9911 - val_loss: 0.0041 - val_accuracy: 0.9751 - 17s/epoch - 36ms/step\n",
            "Epoch 27/30\n",
            "469/469 - 17s - loss: 0.0014 - accuracy: 0.9915 - val_loss: 0.0042 - val_accuracy: 0.9732 - 17s/epoch - 36ms/step\n",
            "Epoch 28/30\n",
            "469/469 - 17s - loss: 0.0014 - accuracy: 0.9915 - val_loss: 0.0048 - val_accuracy: 0.9713 - 17s/epoch - 37ms/step\n",
            "Epoch 29/30\n",
            "469/469 - 17s - loss: 0.0015 - accuracy: 0.9906 - val_loss: 0.0046 - val_accuracy: 0.9718 - 17s/epoch - 36ms/step\n",
            "Epoch 30/30\n",
            "469/469 - 17s - loss: 0.0014 - accuracy: 0.9915 - val_loss: 0.0046 - val_accuracy: 0.9724 - 17s/epoch - 36ms/step\n",
            "Epoch 1/30\n",
            "469/469 - 17s - loss: 0.2574 - accuracy: 0.9212 - val_loss: 0.1373 - val_accuracy: 0.9573 - 17s/epoch - 37ms/step\n",
            "Epoch 2/30\n",
            "469/469 - 17s - loss: 0.1238 - accuracy: 0.9621 - val_loss: 0.1208 - val_accuracy: 0.9633 - 17s/epoch - 36ms/step\n",
            "Epoch 3/30\n",
            "469/469 - 17s - loss: 0.0856 - accuracy: 0.9726 - val_loss: 0.1077 - val_accuracy: 0.9690 - 17s/epoch - 36ms/step\n",
            "Epoch 4/30\n",
            "469/469 - 17s - loss: 0.0687 - accuracy: 0.9783 - val_loss: 0.1125 - val_accuracy: 0.9666 - 17s/epoch - 36ms/step\n",
            "Epoch 5/30\n",
            "469/469 - 17s - loss: 0.0564 - accuracy: 0.9820 - val_loss: 0.1064 - val_accuracy: 0.9684 - 17s/epoch - 36ms/step\n",
            "Epoch 6/30\n",
            "469/469 - 17s - loss: 0.0464 - accuracy: 0.9845 - val_loss: 0.0979 - val_accuracy: 0.9704 - 17s/epoch - 36ms/step\n",
            "Epoch 7/30\n",
            "469/469 - 18s - loss: 0.0393 - accuracy: 0.9867 - val_loss: 0.0985 - val_accuracy: 0.9724 - 18s/epoch - 37ms/step\n",
            "Epoch 8/30\n",
            "469/469 - 17s - loss: 0.0389 - accuracy: 0.9872 - val_loss: 0.0923 - val_accuracy: 0.9726 - 17s/epoch - 37ms/step\n",
            "Epoch 9/30\n",
            "469/469 - 17s - loss: 0.0333 - accuracy: 0.9888 - val_loss: 0.0968 - val_accuracy: 0.9744 - 17s/epoch - 37ms/step\n",
            "Epoch 10/30\n",
            "469/469 - 17s - loss: 0.0275 - accuracy: 0.9905 - val_loss: 0.1007 - val_accuracy: 0.9725 - 17s/epoch - 36ms/step\n",
            "Epoch 11/30\n",
            "469/469 - 17s - loss: 0.0274 - accuracy: 0.9906 - val_loss: 0.1048 - val_accuracy: 0.9730 - 17s/epoch - 36ms/step\n",
            "Epoch 12/30\n",
            "469/469 - 17s - loss: 0.0250 - accuracy: 0.9916 - val_loss: 0.1036 - val_accuracy: 0.9716 - 17s/epoch - 37ms/step\n",
            "Epoch 13/30\n",
            "469/469 - 17s - loss: 0.0292 - accuracy: 0.9908 - val_loss: 0.0984 - val_accuracy: 0.9744 - 17s/epoch - 37ms/step\n",
            "Epoch 14/30\n",
            "469/469 - 17s - loss: 0.0227 - accuracy: 0.9922 - val_loss: 0.0971 - val_accuracy: 0.9753 - 17s/epoch - 37ms/step\n",
            "Epoch 15/30\n",
            "469/469 - 17s - loss: 0.0226 - accuracy: 0.9924 - val_loss: 0.1069 - val_accuracy: 0.9736 - 17s/epoch - 36ms/step\n",
            "Epoch 16/30\n",
            "469/469 - 17s - loss: 0.0211 - accuracy: 0.9928 - val_loss: 0.0899 - val_accuracy: 0.9785 - 17s/epoch - 36ms/step\n",
            "Epoch 17/30\n",
            "469/469 - 17s - loss: 0.0182 - accuracy: 0.9940 - val_loss: 0.1092 - val_accuracy: 0.9731 - 17s/epoch - 36ms/step\n",
            "Epoch 18/30\n",
            "469/469 - 17s - loss: 0.0197 - accuracy: 0.9936 - val_loss: 0.1028 - val_accuracy: 0.9732 - 17s/epoch - 36ms/step\n",
            "Epoch 19/30\n",
            "469/469 - 17s - loss: 0.0154 - accuracy: 0.9946 - val_loss: 0.1007 - val_accuracy: 0.9772 - 17s/epoch - 36ms/step\n",
            "Epoch 20/30\n",
            "469/469 - 17s - loss: 0.0181 - accuracy: 0.9936 - val_loss: 0.1074 - val_accuracy: 0.9753 - 17s/epoch - 37ms/step\n",
            "Epoch 21/30\n",
            "469/469 - 17s - loss: 0.0190 - accuracy: 0.9939 - val_loss: 0.1014 - val_accuracy: 0.9755 - 17s/epoch - 37ms/step\n",
            "Epoch 22/30\n",
            "469/469 - 17s - loss: 0.0160 - accuracy: 0.9944 - val_loss: 0.0869 - val_accuracy: 0.9805 - 17s/epoch - 37ms/step\n",
            "Epoch 23/30\n",
            "469/469 - 17s - loss: 0.0137 - accuracy: 0.9953 - val_loss: 0.1071 - val_accuracy: 0.9745 - 17s/epoch - 37ms/step\n",
            "Epoch 24/30\n",
            "469/469 - 17s - loss: 0.0174 - accuracy: 0.9939 - val_loss: 0.1097 - val_accuracy: 0.9767 - 17s/epoch - 37ms/step\n",
            "Epoch 25/30\n",
            "469/469 - 17s - loss: 0.0156 - accuracy: 0.9946 - val_loss: 0.1065 - val_accuracy: 0.9753 - 17s/epoch - 36ms/step\n",
            "Epoch 26/30\n",
            "469/469 - 17s - loss: 0.0130 - accuracy: 0.9955 - val_loss: 0.0951 - val_accuracy: 0.9792 - 17s/epoch - 35ms/step\n",
            "Epoch 27/30\n",
            "469/469 - 17s - loss: 0.0095 - accuracy: 0.9970 - val_loss: 0.1260 - val_accuracy: 0.9734 - 17s/epoch - 35ms/step\n",
            "Epoch 28/30\n",
            "469/469 - 17s - loss: 0.0163 - accuracy: 0.9947 - val_loss: 0.1132 - val_accuracy: 0.9742 - 17s/epoch - 36ms/step\n",
            "Epoch 29/30\n",
            "469/469 - 16s - loss: 0.0162 - accuracy: 0.9945 - val_loss: 0.0963 - val_accuracy: 0.9775 - 16s/epoch - 35ms/step\n",
            "Epoch 30/30\n",
            "469/469 - 17s - loss: 0.0132 - accuracy: 0.9955 - val_loss: 0.1039 - val_accuracy: 0.9761 - 17s/epoch - 35ms/step\n"
          ]
        }
      ]
    },
    {
      "cell_type": "code",
      "metadata": {
        "colab": {
          "base_uri": "https://localhost:8080/"
        },
        "id": "f8sJ3s--GcOJ",
        "outputId": "025fa147-c8a8-42c0-b729-a1cb685d7da7"
      },
      "source": [
        "# 두 모델의 정확률 비교\n",
        "res_mse =  dmlp_mse.evaluate(x_test,y_test, verbose=0)\n",
        "print('평균제곱오차의 정확율 : ', res_mse[1])\n",
        "res_ce =  dmlp_ce.evaluate(x_test,y_test, verbose=0)\n",
        "print('교차엔트로피 정확율 : ', res_ce[1])\n"
      ],
      "execution_count": null,
      "outputs": [
        {
          "output_type": "stream",
          "name": "stdout",
          "text": [
            "평균제곱오차의 정확율 :  0.9724000096321106\n",
            "교차엔트로피 정확율 :  0.9761000275611877\n"
          ]
        }
      ]
    },
    {
      "cell_type": "code",
      "metadata": {
        "colab": {
          "base_uri": "https://localhost:8080/",
          "height": 265
        },
        "id": "SBffrSgHHmXS",
        "outputId": "e9ed396c-465b-4b47-f50b-3e4baa639534"
      },
      "source": [
        "# 하나의 그래프로 두 모델을 비교\n",
        "import matplotlib.pyplot as plt\n",
        "plt.plot(hist_mse.history['accuracy'])\n",
        "plt.plot(hist_mse.history['val_accuracy'])\n",
        "plt.plot(hist_ce.history['accuracy'])\n",
        "plt.plot(hist_ce.history['val_accuracy'])\n",
        "plt.legend(['train_mse','validation_mse','train_ce','validation_ce'], loc='best')\n",
        "plt.grid()\n",
        "plt.show()"
      ],
      "execution_count": null,
      "outputs": [
        {
          "output_type": "display_data",
          "data": {
            "image/png": "[encoded data removed]",
            "text/plain": [
              "<Figure size 432x288 with 1 Axes>"
            ]
          },
          "metadata": {
            "needs_background": "light"
          }
        }
      ]
    },
    {
      "cell_type": "code",
      "metadata": {
        "id": "vE0LP6rzJdtm"
      },
      "source": [
        ""
      ],
      "execution_count": null,
      "outputs": []
    }
  ]
}
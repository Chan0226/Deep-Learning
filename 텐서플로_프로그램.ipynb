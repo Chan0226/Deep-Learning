{
  "nbformat": 4,
  "nbformat_minor": 0,
  "metadata": {
    "colab": {
      "name": "텐서플로 프로그램.ipynb",
      "provenance": [],
      "collapsed_sections": [],
      "include_colab_link": true
    },
    "kernelspec": {
      "name": "python3",
      "display_name": "Python 3"
    },
    "language_info": {
      "name": "python"
    },
    "accelerator": "GPU"
  },
  "cells": [
    {
      "cell_type": "markdown",
      "metadata": {
        "id": "view-in-github",
        "colab_type": "text"
      },
      "source": [
        "<a href=\"https://colab.research.google.com/github/Chan0226/Neural-Network/blob/main/%ED%85%90%EC%84%9C%ED%94%8C%EB%A1%9C_%ED%94%84%EB%A1%9C%EA%B7%B8%EB%9E%A8.ipynb\" target=\"_parent\"><img src=\"https://colab.research.google.com/assets/colab-badge.svg\" alt=\"Open In Colab\"/></a>"
      ]
    },
    {
      "cell_type": "code",
      "metadata": {
        "id": "IfGvhWKzbtuJ"
      },
      "source": [
        "# 텐서플로 프로그램 : 퍼셉트론 학습\n",
        "import tensorflow as tf"
      ],
      "execution_count": null,
      "outputs": []
    },
    {
      "cell_type": "code",
      "metadata": {
        "id": "DlQiLQIvfr7J"
      },
      "source": [
        "# or 데이터 구축\n",
        "x = [[0.0,0.0],[0.0,1.0],[1.0,0.0],[1.0,1.0]]\n",
        "y = [[-1],[1],[1],[1]]"
      ],
      "execution_count": null,
      "outputs": []
    },
    {
      "cell_type": "code",
      "metadata": {
        "colab": {
          "base_uri": "https://localhost:8080/"
        },
        "id": "3vTLwkJEf4Vv",
        "outputId": "baad0707-cb6d-48b1-dc6a-7fc42f558139"
      },
      "source": [
        "# 가중치 초기화\n",
        "# 일반적인 딥러닝 프로그램에서는 Variable을 사용해야한다\n",
        "# 텐서에서 Variable은 신경망의 가중치에 해당\n",
        "# 신경망을 학습할때는 그레이디언트 정보를 구하고 가중치를 갱신  --> Variable\n",
        "# 그레이디언트 = 미분한 값 = 기울기\n",
        "\n",
        "w = tf.Variable( tf.random.uniform([2,1],-0.5,0.5) )\n",
        "b = tf.Variable(tf.zeros([1]))\n",
        "w,b"
      ],
      "execution_count": null,
      "outputs": [
        {
          "output_type": "execute_result",
          "data": {
            "text/plain": [
              "(<tf.Variable 'Variable:0' shape=(2, 1) dtype=float32, numpy=\n",
              " array([[0.43559253],\n",
              "        [0.06750429]], dtype=float32)>,\n",
              " <tf.Variable 'Variable:0' shape=(1,) dtype=float32, numpy=array([0.], dtype=float32)>)"
            ]
          },
          "metadata": {},
          "execution_count": 6
        }
      ]
    },
    {
      "cell_type": "code",
      "metadata": {
        "id": "0E0PNun0gOLO"
      },
      "source": [
        "# 옵티마이저\n",
        "opt = tf.keras.optimizers.SGD(learning_rate=0.1)"
      ],
      "execution_count": null,
      "outputs": []
    },
    {
      "cell_type": "code",
      "metadata": {
        "id": "bSwYs8qAhXcG"
      },
      "source": [
        "# 전방계산식   accuracy \n",
        "def forward():\n",
        "  s = tf.add(tf.matmul(x,w),b)\n",
        "  o = tf.tanh(s)          # 활성함수를 tanh 를 사용 = 계단함수는 불연속점이 있어서 미분이 어려움\n",
        "  return o"
      ],
      "execution_count": null,
      "outputs": []
    },
    {
      "cell_type": "code",
      "metadata": {
        "id": "9C0OKtjEhuKm"
      },
      "source": [
        "# 손실 함수 정의\n",
        "def loss():\n",
        "  o = forward()\n",
        "  return tf.reduce_mean((y-o)**2)"
      ],
      "execution_count": null,
      "outputs": []
    },
    {
      "cell_type": "code",
      "metadata": {
        "colab": {
          "base_uri": "https://localhost:8080/"
        },
        "id": "GWHii1JoicF5",
        "outputId": "6ce56187-b639-447d-bc36-1faa54007e95"
      },
      "source": [
        "# 500세대 까지 학습(100세대마다 출력)\n",
        "for i in range(500):\n",
        "  opt.minimize(loss, var_list=[w,b])\n",
        "  if(i %100 == 0):\n",
        "    print(\"loss at epoch\",i,\"=\",loss().numpy()) "
      ],
      "execution_count": null,
      "outputs": [
        {
          "output_type": "stream",
          "name": "stdout",
          "text": [
            "loss at epoch 0 = 0.5538456\n",
            "loss at epoch 100 = 0.08559162\n",
            "loss at epoch 200 = 0.0407632\n",
            "loss at epoch 300 = 0.025939506\n",
            "loss at epoch 400 = 0.018799108\n"
          ]
        }
      ]
    },
    {
      "cell_type": "code",
      "metadata": {
        "colab": {
          "base_uri": "https://localhost:8080/"
        },
        "id": "zv_FGVXQi8SX",
        "outputId": "281c3722-5769-48ff-911f-a1d325cf1bf7"
      },
      "source": [
        "# 학습한 데이터를 퍼셉트론으로 예측\n",
        "o = forward()\n",
        "print(o)"
      ],
      "execution_count": null,
      "outputs": [
        {
          "output_type": "stream",
          "name": "stdout",
          "text": [
            "tf.Tensor(\n",
            "[[-0.8175893 ]\n",
            " [ 0.88708746]\n",
            " [ 0.8871779 ]\n",
            " [ 0.9992823 ]], shape=(4, 1), dtype=float32)\n"
          ]
        }
      ]
    },
    {
      "cell_type": "code",
      "metadata": {
        "id": "9Gc2ghM-jYD4"
      },
      "source": [
        "# 퍼셉트론을 이용한 신경망의 문제점\n",
        "# 신경망의 동작을 직접 코딩 --> 케라스\n",
        "# 케라스는 새로운 디자인 패턴을 만들었음.  \n",
        "# 프로그램의 방법론 또는 코딩 규칙\n",
        "# model.add(Dense(노드 개수, 활성 함수....))"
      ],
      "execution_count": null,
      "outputs": []
    },
    {
      "cell_type": "code",
      "metadata": {
        "id": "UFCpduXXkN6C"
      },
      "source": [
        "# 케라스 주요 클래스\n",
        "# models : \n",
        "# layers : 다양한 층\n",
        "# optimizers : 다양한 옵티마이저 제공"
      ],
      "execution_count": null,
      "outputs": []
    },
    {
      "cell_type": "code",
      "metadata": {
        "id": "5s-hksEykagw"
      },
      "source": [
        "# 케라스 프로그램 : 퍼셉트론 학습\n",
        "from tensorflow.keras.models import Sequential # 층을 한줄로 쌓는데 사용\n",
        "from tensorflow.keras.layers import Dense  #인접한 두개의 층이 완전연결된 경우\n",
        "from tensorflow.keras.optimizers import SGD"
      ],
      "execution_count": null,
      "outputs": []
    },
    {
      "cell_type": "code",
      "metadata": {
        "id": "TdsPkhtzki75"
      },
      "source": [
        "# 데이터 구축 -> 신경망 구조 설계 ->학습 ->예측    ---> 케라스의 디자인 패턴"
      ],
      "execution_count": null,
      "outputs": []
    },
    {
      "cell_type": "code",
      "metadata": {
        "id": "T4FDvxoilLWI"
      },
      "source": [
        "# or 데이터 구축\n",
        "x = [[0.0,0.0],[0.0,1.0],[1.0,0.0],[1.0,1.0]]\n",
        "y = [[-1],[1],[1],[1]]\n",
        "\n",
        "# 신경망 구조 설계\n",
        "n_input = 2\n",
        "n_output = 1\n",
        "perceptron =  Sequential()\n",
        "perceptron.add(Dense(units=n_output, input_shape=(n_input,),\n",
        "                     activation = 'tanh', kernel_initializer='random_uniform',\n",
        "                     bias_initializer='zero'                   \n",
        "                     ))\n",
        "\n",
        "#학습\n",
        "perceptron.compile(loss = 'mse', optimizer=SGD(learning_rate=0.1),metrics=['mse'])\n",
        "perceptron.fit(x,y,epochs=500,verbose=2)  # verbose=2 --> epochs가 2세대 마다 한번씩 출력\n",
        "\n",
        "#예측\n",
        "res = perceptron.predict(x)\n",
        "print(res)"
      ],
      "execution_count": null,
      "outputs": []
    },
    {
      "cell_type": "code",
      "metadata": {
        "id": "oPgrhF15m7Kv"
      },
      "source": [
        " # 케라스 프로그램 : 다층 퍼셉트론 학습 MNIST 인식"
      ],
      "execution_count": null,
      "outputs": []
    },
    {
      "cell_type": "code",
      "metadata": {
        "id": "Xdqxui8foKM5"
      },
      "source": [
        "# 데이터는 1차원 백터로 표현한다.\n",
        "import numpy as np\n",
        "import tensorflow as tf\n",
        "from tensorflow.keras.datasets import mnist\n",
        "\n",
        "from tensorflow.keras.models import Sequential\n",
        "from tensorflow.keras.layers import Dense\n",
        "from tensorflow.keras.optimizers import Adam"
      ],
      "execution_count": null,
      "outputs": []
    },
    {
      "cell_type": "code",
      "metadata": {
        "colab": {
          "base_uri": "https://localhost:8080/"
        },
        "id": "DfV51lM-qixh",
        "outputId": "2e1b88da-0a10-410f-eff1-1e569e83c548"
      },
      "source": [
        "# MNIST 읽어 와서 신경망에 입력할 형태로 변환\n",
        "(x_train, y_train), (x_test, y_test) = mnist.load_data()\n",
        "x_train = x_train.reshape(60000,784) # 텐서 모양 변환\n",
        "x_test = x_test.reshape(10000,784)\n",
        "x_train=x_train.astype(np.float32)/255.0 # ndarray로 변환\n",
        "x_test=x_test.astype(np.float32)/255.0\n",
        "y_train=tf.keras.utils.to_categorical(y_train,10) # 원핫 코드로 변환\n",
        "y_test=tf.keras.utils.to_categorical(y_test,10)"
      ],
      "execution_count": null,
      "outputs": [
        {
          "output_type": "stream",
          "name": "stdout",
          "text": [
            "Downloading data from https://storage.googleapis.com/tensorflow/tf-keras-datasets/mnist.npz\n",
            "11493376/11490434 [==============================] - 0s 0us/step\n",
            "11501568/11490434 [==============================] - 0s 0us/step\n"
          ]
        }
      ]
    },
    {
      "cell_type": "code",
      "metadata": {
        "colab": {
          "base_uri": "https://localhost:8080/"
        },
        "id": "UhEDBX-lwjmr",
        "outputId": "8965d60a-ebae-4780-e483-0fa426386ce1"
      },
      "source": [
        "x_train.shape, y_train.shape"
      ],
      "execution_count": null,
      "outputs": [
        {
          "output_type": "execute_result",
          "data": {
            "text/plain": [
              "((60000, 784), (60000, 10))"
            ]
          },
          "metadata": {},
          "execution_count": 4
        }
      ]
    },
    {
      "cell_type": "code",
      "metadata": {
        "id": "vfA0Z5pzuK7I"
      },
      "source": [
        "n_input=784\n",
        "n_hidden=1024\n",
        "n_output=10"
      ],
      "execution_count": null,
      "outputs": []
    },
    {
      "cell_type": "code",
      "metadata": {
        "id": "y47e4T2SwUbp"
      },
      "source": [
        "mlp=Sequential()\n",
        "mlp.add (Dense(units=n_hidden,activation='tanh',input_shape=(n_input,),kernel_initializer='random_uniform',bias_initializer='zeros'))\n",
        "mlp.add(Dense(units=n_output,activation='tanh',kernel_initializer='random_uniform',bias_initializer='zeros'))"
      ],
      "execution_count": null,
      "outputs": []
    },
    {
      "cell_type": "code",
      "metadata": {
        "id": "d1UG6IcdwWy4"
      },
      "source": [
        "mlp.compile(loss='mean_squared_error',optimizer=Adam(learning_rate=0.001),metrics=['accuracy'])\n",
        "hist=mlp.fit(x_train,y_train,batch_size=128,epochs=30,validation_data=(x_test,y_test),verbose=2)"
      ],
      "execution_count": null,
      "outputs": []
    },
    {
      "cell_type": "code",
      "metadata": {
        "colab": {
          "base_uri": "https://localhost:8080/",
          "height": 295
        },
        "id": "Ge1EkoLBwYmZ",
        "outputId": "9ff14e65-09b9-4885-e79c-46d729da4eac"
      },
      "source": [
        "import matplotlib.pyplot as plt\n",
        "#accuracy 곡선\n",
        "plt.plot(hist.history['accuracy'])\n",
        "plt.plot(hist.history['val_accuracy'])\n",
        "plt.title('Model Accuracy')\n",
        "plt.ylabel(\"Accuracy\")\n",
        "plt.xlabel(\"Epoch\")\n",
        "plt.legend(['Train','Validatoin'], loc = \"upper left\")\n",
        "plt.grid()\n",
        "plt.show()"
      ],
      "execution_count": null,
      "outputs": [
        {
          "output_type": "display_data",
          "data": {
            "image/png": "[encoded data removed]",
            "text/plain": [
              "<Figure size 432x288 with 1 Axes>"
            ]
          },
          "metadata": {
            "needs_background": "light"
          }
        }
      ]
    },
    {
      "cell_type": "code",
      "metadata": {
        "colab": {
          "base_uri": "https://localhost:8080/",
          "height": 295
        },
        "id": "3SPTvzdexMtr",
        "outputId": "b12a995a-5788-45bb-aac7-76f3a16c7ede"
      },
      "source": [
        "#손실 함수 곡선\n",
        "plt.plot(hist.history['loss'])\n",
        "plt.plot(hist.history['val_loss'])\n",
        "plt.title('Model loss')\n",
        "plt.ylabel('Loss')\n",
        "plt.xlabel('Epoch')\n",
        "plt.legend(['Train','Validation'], loc='upper right')\n",
        "plt.grid()\n",
        "plt.show()"
      ],
      "execution_count": null,
      "outputs": [
        {
          "output_type": "display_data",
          "data": {
            "image/png": "[encoded data removed]",
            "text/plain": [
              "<Figure size 432x288 with 1 Axes>"
            ]
          },
          "metadata": {
            "needs_background": "light"
          }
        }
      ]
    },
    {
      "cell_type": "code",
      "metadata": {
        "id": "kvGwatu4ylTK"
      },
      "source": [
        ""
      ],
      "execution_count": null,
      "outputs": []
    }
  ]
}
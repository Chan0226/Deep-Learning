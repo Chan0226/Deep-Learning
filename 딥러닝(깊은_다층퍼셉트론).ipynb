{
  "nbformat": 4,
  "nbformat_minor": 0,
  "metadata": {
    "colab": {
      "name": "딥러닝(깊은 다층퍼셉트론).ipynb",
      "provenance": [],
      "collapsed_sections": [],
      "include_colab_link": true
    },
    "kernelspec": {
      "name": "python3",
      "display_name": "Python 3"
    },
    "language_info": {
      "name": "python"
    }
  },
  "cells": [
    {
      "cell_type": "markdown",
      "metadata": {
        "id": "view-in-github",
        "colab_type": "text"
      },
      "source": [
        "<a href=\"https://colab.research.google.com/github/Chan0226/Deep-Learning/blob/main/%EB%94%A5%EB%9F%AC%EB%8B%9D(%EA%B9%8A%EC%9D%80_%EB%8B%A4%EC%B8%B5%ED%8D%BC%EC%85%89%ED%8A%B8%EB%A1%A0).ipynb\" target=\"_parent\"><img src=\"https://colab.research.google.com/assets/colab-badge.svg\" alt=\"Open In Colab\"/></a>"
      ]
    },
    {
      "cell_type": "code",
      "metadata": {
        "id": "C0szBrdqrVV2"
      },
      "source": [
        "# 텐서플로우, 파이토치"
      ],
      "execution_count": null,
      "outputs": []
    },
    {
      "cell_type": "code",
      "metadata": {
        "colab": {
          "base_uri": "https://localhost:8080/"
        },
        "id": "li8vH09ztbIE",
        "outputId": "e7b41139-d315-42ca-cf1f-f5080ff05f77"
      },
      "source": [
        "import tensorflow as tf\n",
        "print(tf.__version__) \n"
      ],
      "execution_count": null,
      "outputs": [
        {
          "output_type": "stream",
          "name": "stdout",
          "text": [
            "2.7.0\n"
          ]
        }
      ]
    },
    {
      "cell_type": "code",
      "metadata": {
        "colab": {
          "base_uri": "https://localhost:8080/"
        },
        "id": "KsO03q-CtkuD",
        "outputId": "80d76c8f-c432-4282-ee1b-683ffedd46a5"
      },
      "source": [
        "a = tf.random_uniform_initializer()\n",
        "print(a)\n",
        "print(type(a))"
      ],
      "execution_count": null,
      "outputs": [
        {
          "output_type": "stream",
          "name": "stdout",
          "text": [
            "<tensorflow.python.ops.init_ops_v2.RandomUniform object at 0x7f24733897d0>\n",
            "<class 'tensorflow.python.ops.init_ops_v2.RandomUniform'>\n"
          ]
        }
      ]
    },
    {
      "cell_type": "code",
      "metadata": {
        "id": "CZ2KUcSYt0xa"
      },
      "source": [
        "# 다차원 배열 텐서\n",
        "# 데이터를 텐서\n",
        "# 신경망의 가중치(매개변수)를 텐서로 표현 -- > 다차원 배열\n",
        "# 넘파이는 ndarray클래스    텐서플로우는 Tensor 클래스"
      ],
      "execution_count": null,
      "outputs": []
    },
    {
      "cell_type": "code",
      "metadata": {
        "id": "t16WN9ezx_B8"
      },
      "source": [
        "# 데이터 읽어오기\n",
        "import tensorflow as tf\n",
        "import tensorflow.keras.datasets as ds"
      ],
      "execution_count": null,
      "outputs": []
    },
    {
      "cell_type": "code",
      "metadata": {
        "id": "p8Qh6vRSzLuF"
      },
      "source": [
        "from sklearn.datasets import fetch_openml\n",
        "from sklearn.model_selection import train_test_split\n",
        "mnist = fetch_openml('mnist_784')\n",
        "x_train,x_test,y_train,y_test =  train_test_split(mnist.data, mnist.target)"
      ],
      "execution_count": null,
      "outputs": []
    },
    {
      "cell_type": "code",
      "metadata": {
        "colab": {
          "base_uri": "https://localhost:8080/"
        },
        "id": "MJa2ZqjiyHOr",
        "outputId": "efc1780d-b17a-4c2d-f998-20d97b9aed78"
      },
      "source": [
        "# 특징.... 사이킷런...... 데이터 load xxxx 가져오고\n",
        "# train.... split   테이터를 학습용과 훈련용으로\n",
        "# x_train,x_test,y_train,y_test = \n",
        "#케라스는 데이터를 가져오면서 동시에 학습용과 훈련용으로 나눔\n",
        "(x_train,y_train),(x_test,y_test) = ds.mnist.load_data()"
      ],
      "execution_count": null,
      "outputs": [
        {
          "output_type": "stream",
          "name": "stdout",
          "text": [
            "Downloading data from https://storage.googleapis.com/tensorflow/tf-keras-datasets/mnist.npz\n",
            "11493376/11490434 [==============================] - 0s 0us/step\n",
            "11501568/11490434 [==============================] - 0s 0us/step\n"
          ]
        }
      ]
    },
    {
      "cell_type": "code",
      "metadata": {
        "colab": {
          "base_uri": "https://localhost:8080/"
        },
        "id": "31RHU-3XzEBC",
        "outputId": "e3e13fa4-d94d-4e3c-a4fb-d5e538b4555b"
      },
      "source": [
        "(x_train,y_train),(x_test,y_test) = ds.mnist.load_data()\n",
        "print(x_train.shape, y_train.shape)"
      ],
      "execution_count": null,
      "outputs": [
        {
          "output_type": "stream",
          "name": "stdout",
          "text": [
            "(60000, 28, 28) (60000,)\n"
          ]
        }
      ]
    },
    {
      "cell_type": "code",
      "metadata": {
        "colab": {
          "base_uri": "https://localhost:8080/"
        },
        "id": "D5HW7tanz0nS",
        "outputId": "573e4e84-269c-4555-b048-a83365d0701b"
      },
      "source": [
        "y_train"
      ],
      "execution_count": null,
      "outputs": [
        {
          "output_type": "execute_result",
          "data": {
            "text/plain": [
              "array([5, 0, 4, ..., 5, 6, 8], dtype=uint8)"
            ]
          },
          "metadata": {},
          "execution_count": 16
        }
      ]
    },
    {
      "cell_type": "code",
      "metadata": {
        "id": "H9Wsz6KZ0akT"
      },
      "source": [
        "# 텐서플로 XOR 문제 \n",
        "import tensorflow as tf\n"
      ],
      "execution_count": null,
      "outputs": []
    },
    {
      "cell_type": "code",
      "metadata": {
        "id": "CIFSwczH14Gr"
      },
      "source": [
        "# data\n",
        "x = [[0.0,0.0],[0.0,1.0],[1.0,0.0],[1.0,1.0]]\n",
        "y = [[-1],[1],[1],[1]]\n"
      ],
      "execution_count": null,
      "outputs": []
    },
    {
      "cell_type": "code",
      "metadata": {
        "id": "Ki5DH05w2wj5"
      },
      "source": [
        "# 가중치를 설정\n",
        "w = tf.Variable([[1.0],[1.0]])\n",
        "b = tf.Variable(-0.5)"
      ],
      "execution_count": null,
      "outputs": []
    },
    {
      "cell_type": "code",
      "metadata": {
        "colab": {
          "base_uri": "https://localhost:8080/"
        },
        "id": "hneK0Oo33JgT",
        "outputId": "1145a597-0a3e-46f9-917e-92f7a27d9f79"
      },
      "source": [
        "# 다층 퍼셉트론 동작\n",
        "s = tf.add(tf.matmul(x,w),b)\n",
        "o = tf.sign(s)\n",
        "o"
      ],
      "execution_count": null,
      "outputs": [
        {
          "output_type": "execute_result",
          "data": {
            "text/plain": [
              "<tf.Tensor: shape=(4, 1), dtype=float32, numpy=\n",
              "array([[-1.],\n",
              "       [ 1.],\n",
              "       [ 1.],\n",
              "       [ 1.]], dtype=float32)>"
            ]
          },
          "metadata": {},
          "execution_count": 30
        }
      ]
    },
    {
      "cell_type": "code",
      "metadata": {
        "id": "BK6EuRLc3Q9i"
      },
      "source": [
        ""
      ],
      "execution_count": null,
      "outputs": []
    },
    {
      "cell_type": "code",
      "metadata": {
        "id": "9sFT0NNKbqxf"
      },
      "source": [
        ""
      ],
      "execution_count": null,
      "outputs": []
    }
  ]
}